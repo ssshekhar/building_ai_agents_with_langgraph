{
  "cells": [
    {
      "cell_type": "markdown",
      "metadata": {
        "id": "uAJe3OmvMPAh"
      },
      "source": [
        "# Building a ReAct agent from scratch using GPT-4\n",
        "\n",
        "In this tutorial, we'll build a simple ReAct (Reasoning and Acting) agent using GPT-4. The agent implements the Thought -> Action -> Observation (Pause) loop to answer user queries effectively.\n",
        "\n",
        "By using simple tools, the agent can extend its capabilities beyond mere language processing, enabling it to interact with data sources and perform basic computations as needed.\n",
        "\n"
      ]
    },
    {
      "cell_type": "code",
      "source": [
        "pip install dotenv"
      ],
      "metadata": {
        "colab": {
          "base_uri": "https://localhost:8080/"
        },
        "id": "G1rPD_JxMy_l",
        "outputId": "a4127977-a6af-426f-ebf7-e95cdf063684"
      },
      "execution_count": 2,
      "outputs": [
        {
          "output_type": "stream",
          "name": "stdout",
          "text": [
            "Collecting dotenv\n",
            "  Downloading dotenv-0.9.9-py2.py3-none-any.whl.metadata (279 bytes)\n",
            "Collecting python-dotenv (from dotenv)\n",
            "  Downloading python_dotenv-1.1.1-py3-none-any.whl.metadata (24 kB)\n",
            "Downloading dotenv-0.9.9-py2.py3-none-any.whl (1.9 kB)\n",
            "Downloading python_dotenv-1.1.1-py3-none-any.whl (20 kB)\n",
            "Installing collected packages: python-dotenv, dotenv\n",
            "Successfully installed dotenv-0.9.9 python-dotenv-1.1.1\n"
          ]
        }
      ]
    },
    {
      "cell_type": "code",
      "source": [],
      "metadata": {
        "id": "wSR-RBoeMfbc"
      },
      "execution_count": null,
      "outputs": []
    },
    {
      "cell_type": "markdown",
      "metadata": {
        "id": "cqHaTEg1MPAi"
      },
      "source": [
        "### Imports\n",
        "First, we need to import the necessary libraries and set up the OpenAI client."
      ]
    },
    {
      "cell_type": "code",
      "execution_count": 4,
      "metadata": {
        "id": "LhM0CTuBMPAj"
      },
      "outputs": [],
      "source": [
        "from openai import OpenAI\n",
        "import re\n",
        "\n",
        "from dotenv import load_dotenv\n",
        "_ = load_dotenv()\n",
        "\n",
        "# Replace \"YOUR_API_KEY\" with your actual OpenAI API key or ensure it's loaded from your .env file\n",
        "client = OpenAI(api_key=\"YOUR_API_KEY\")"
      ]
    },
    {
      "cell_type": "markdown",
      "metadata": {
        "id": "zhbGR2rtMPAk"
      },
      "source": [
        "### Defining the Agent Class\n",
        "\n",
        "We create an Agent class that will handle conversations with the user and interact with the OpenAI API."
      ]
    },
    {
      "cell_type": "code",
      "execution_count": null,
      "metadata": {
        "id": "-20rievlMPAk"
      },
      "outputs": [],
      "source": [
        "class Agent:\n",
        "    \"\"\"\n",
        "    A class representing an AI agent that can engage in conversations using OpenAI's API.\n",
        "    \"\"\"\n",
        "\n",
        "    def __init__(self, system=\"\"):\n",
        "        \"\"\"\n",
        "        Initialize the agent with an optional system message.\n",
        "\n",
        "        Args:\n",
        "            system (str): The system message to set the context for the agent.\n",
        "        \"\"\"\n",
        "        self.system = system\n",
        "        self.messages = []\n",
        "        if self.system:\n",
        "            # If a system message is provided, add it to the message history\n",
        "            self.messages.append({\"role\": \"system\", \"content\": system})\n",
        "\n",
        "    def __call__(self, message):\n",
        "        \"\"\"\n",
        "        Allow the agent to be called directly with a message.\n",
        "\n",
        "        Args:\n",
        "            message (str): The user's input message.\n",
        "\n",
        "        Returns:\n",
        "            str: The agent's response to the input message.\n",
        "        \"\"\"\n",
        "        # Add the user's message to the conversation history\n",
        "        self.messages.append({\"role\": \"user\", \"content\": message})\n",
        "        # Execute the conversation and get the result\n",
        "        result = self.execute()\n",
        "        # Add the assistant's response to the conversation history\n",
        "        self.messages.append({\"role\": \"assistant\", \"content\": result})\n",
        "        return result\n",
        "\n",
        "    def execute(self):\n",
        "        \"\"\"\n",
        "        Execute the conversation by sending the entire conversation history to the OpenAI API.\n",
        "\n",
        "        Returns:\n",
        "            str: The content of the model's response.\n",
        "        \"\"\"\n",
        "        # Send the entire conversation history to the OpenAI API\n",
        "        completion = client.chat.completions.create(\n",
        "                        model=\"gpt-4o-mini\",\n",
        "                        temperature=0,\n",
        "                        messages=self.messages)\n",
        "        # Return the content of the model's response\n",
        "        return completion.choices[0].message.content"
      ]
    },
    {
      "cell_type": "markdown",
      "metadata": {
        "id": "JrmqJNghMPAl"
      },
      "source": [
        "### Defining the Agent's Prompt and Behavior\n",
        "We define a prompt that sets the context and behavior for the agent. The agent operates in a loop of Thought, Action, PAUSE, and Observation, and finally outputs an Answer."
      ]
    },
    {
      "cell_type": "code",
      "execution_count": null,
      "metadata": {
        "id": "jpvXkISWMPAl"
      },
      "outputs": [],
      "source": [
        "# Define a prompt for the agent\n",
        "prompt = \"\"\"\n",
        "You run in a loop of Thought, Action, PAUSE, Observation.\n",
        "At the end of the loop you output an Answer.\n",
        "Use Thought to describe your thoughts about the question you have been asked.\n",
        "Use Action to run one of the actions available to you - then return PAUSE.\n",
        "Observation will be the result of running those actions.\n",
        "\n",
        "Your available actions are:\n",
        "\n",
        "calculate_total_price:\n",
        "e.g. calculate_total_price: apple: 2, banana: 3\n",
        "Runs a calculation for the total price based on the quantity and prices of the fruits.\n",
        "\n",
        "get_fruit_price:\n",
        "e.g. get_fruit_price: apple\n",
        "returns the price of the fruit when given its name.\n",
        "\n",
        "Example session:\n",
        "\n",
        "Question: What is the total price for 2 apples and 3 bananas?\n",
        "Thought: I should calculate the total price by getting the price of each fruit and summing them up.\n",
        "Action: get_fruit_price: apple\n",
        "PAUSE\n",
        "\n",
        "Observation: The price of an apple is $1.5.\n",
        "\n",
        "Action: get_fruit_price: banana\n",
        "PAUSE\n",
        "\n",
        "Observation: The price of a banana is $1.2.\n",
        "\n",
        "Action: calculate_total_price: apple: 2, banana: 3\n",
        "PAUSE\n",
        "\n",
        "You then output:\n",
        "\n",
        "Answer: The total price for 2 apples and 3 bananas is $6.6.\n",
        "\"\"\".strip()"
      ]
    },
    {
      "cell_type": "markdown",
      "metadata": {
        "id": "ljO6B6KmMPAl"
      },
      "source": [
        "### Defining Available Actions\n",
        "We define functions that the agent can use to perform actions:"
      ]
    },
    {
      "cell_type": "code",
      "execution_count": null,
      "metadata": {
        "id": "XpsnW3dqMPAm"
      },
      "outputs": [],
      "source": [
        "# Price lookup for fruits\n",
        "fruit_prices = {\n",
        "    \"apple\": 1.5,\n",
        "    \"banana\": 1.2,\n",
        "    \"orange\": 1.3,\n",
        "    \"grapes\": 2.0\n",
        "}\n",
        "\n",
        "# Function to calculate the price of a specific fruit\n",
        "def get_fruit_price(fruit):\n",
        "    if fruit in fruit_prices:\n",
        "        return f\"The price of a {fruit} is ${fruit_prices[fruit]}\"\n",
        "    else:\n",
        "        return f\"Sorry, I don't know the price of {fruit}.\"\n",
        "\n",
        "# Function to calculate total price based on quantities\n",
        "def calculate_total_price(fruits):\n",
        "    total = 0.0\n",
        "    fruit_list = fruits.split(\", \")\n",
        "    for item in fruit_list:\n",
        "        fruit, quantity = item.split(\": \")\n",
        "        quantity = int(quantity)\n",
        "        if fruit in fruit_prices:\n",
        "            total += fruit_prices[fruit] * quantity\n",
        "        else:\n",
        "            return f\"Sorry, I don't have the price of {fruit}.\"\n",
        "    return f\"The total price is ${total:.2f}\"\n",
        "\n",
        "# Mapping actions to functions\n",
        "known_actions = {\n",
        "    \"get_fruit_price\": get_fruit_price,\n",
        "    \"calculate_total_price\": calculate_total_price\n",
        "}"
      ]
    },
    {
      "cell_type": "markdown",
      "metadata": {
        "id": "j2Ghw8H2MPAm"
      },
      "source": [
        "### Creating the Agent Instance\n",
        "We create an instance of the Agent class with the defined prompt."
      ]
    },
    {
      "cell_type": "code",
      "execution_count": null,
      "metadata": {
        "id": "AxsCfrCmMPAn"
      },
      "outputs": [],
      "source": [
        "\n",
        "react_agent = Agent(system=prompt)"
      ]
    },
    {
      "cell_type": "markdown",
      "metadata": {
        "id": "xp0XmqxYMPAn"
      },
      "source": [
        "### Defining the Query Function\n",
        "We define a function query that takes a question, sends it to the agent, parses the agent's response for actions, and executes the corresponding functions.\n"
      ]
    },
    {
      "cell_type": "code",
      "execution_count": null,
      "metadata": {
        "id": "255hRutcMPAn"
      },
      "outputs": [],
      "source": [
        "# Run a query\n",
        "action_re = re.compile(r'^Action: (\\w+): (.*)$')   # python regular expression to select action\n",
        "\n",
        "def query(question):\n",
        "    bot = Agent(prompt)\n",
        "    result = bot(question)\n",
        "    print(result)\n",
        "    actions = [\n",
        "        action_re.match(a)\n",
        "        for a in result.split('\\n')\n",
        "        if action_re.match(a)\n",
        "    ]\n",
        "    if actions:\n",
        "        action, action_input = actions[0].groups()\n",
        "        if action not in known_actions:\n",
        "            raise Exception(f\"Unknown action: {action}: {action_input}\")\n",
        "        print(f\" -- running {action} {action_input}\")\n",
        "        observation = known_actions[action](action_input)\n",
        "        print(\"Observation:\", observation)\n",
        "    else:\n",
        "        return"
      ]
    },
    {
      "cell_type": "markdown",
      "metadata": {
        "id": "KWkdHOK2MPAn"
      },
      "source": [
        "### Running Queries\n",
        "We run the query function with different inputs to see how the agent behaves."
      ]
    },
    {
      "cell_type": "code",
      "execution_count": null,
      "metadata": {
        "id": "A9RyK2qmMPAn",
        "outputId": "35d78d2c-a515-4a88-c121-e432a0dc3593"
      },
      "outputs": [
        {
          "name": "stdout",
          "output_type": "stream",
          "text": [
            "Thought: I need to find out the price of a banana by using the appropriate action.\n",
            "Action: get_fruit_price: banana\n",
            "PAUSE\n",
            " -- running get_fruit_price banana\n",
            "Observation: The price of a banana is $1.2\n"
          ]
        }
      ],
      "source": [
        "query(\"What is the price of a banana?\")"
      ]
    },
    {
      "cell_type": "code",
      "execution_count": null,
      "metadata": {
        "id": "XgwlW2YJMPAo",
        "outputId": "d070cd60-8453-4301-e6bd-37db50f183cd"
      },
      "outputs": [
        {
          "name": "stdout",
          "output_type": "stream",
          "text": [
            "Thought: To find the price of 2 bananas, I need to get the price of a single banana and then multiply it by 2.\n",
            "Action: get_fruit_price: banana\n",
            "PAUSE\n",
            " -- running get_fruit_price banana\n",
            "Observation: The price of a banana is $1.2\n"
          ]
        }
      ],
      "source": [
        "query(\"What is the price of 2 bananas?\")"
      ]
    },
    {
      "cell_type": "code",
      "execution_count": null,
      "metadata": {
        "id": "LY-fu1TgMPAo",
        "outputId": "d1423e35-25ce-408b-d629-fcfc01880eb3"
      },
      "outputs": [
        {
          "name": "stdout",
          "output_type": "stream",
          "text": [
            "Thought: I need to find the price of each fruit first, then calculate the total price for the given quantities.\n",
            "Action: get_fruit_price: banana\n",
            "PAUSE\n",
            " -- running get_fruit_price banana\n",
            "Observation: The price of a banana is $1.2\n"
          ]
        }
      ],
      "source": [
        "query(\"What is the price of 2 bananas and 3 oranges?\")"
      ]
    },
    {
      "cell_type": "markdown",
      "metadata": {
        "id": "hrHRAIXRMPAo"
      },
      "source": [
        "### Handling Multiple Turns with Loops\n",
        "To allow the agent to perform multiple actions in a loop (e.g., get prices before calculating total), we modify the query function to handle multiple turns until the agent outputs an Answer."
      ]
    },
    {
      "cell_type": "code",
      "execution_count": null,
      "metadata": {
        "id": "eJ3BLsyfMPAo"
      },
      "outputs": [],
      "source": [
        "# Run a query\n",
        "action_re = re.compile(r'^Action: (\\w+): (.*)$')   # python regular expression to select action\n",
        "\n",
        "def query(question, max_turns=5):\n",
        "    i = 0\n",
        "    bot = Agent(prompt)\n",
        "    next_prompt = question\n",
        "    while i < max_turns:\n",
        "        i += 1\n",
        "        result = bot(next_prompt)\n",
        "        print(result)\n",
        "        actions = [\n",
        "            action_re.match(a)\n",
        "            for a in result.split('\\n')\n",
        "            if action_re.match(a)\n",
        "        ]\n",
        "        if actions:\n",
        "            action, action_input = actions[0].groups()\n",
        "            if action not in known_actions:\n",
        "                raise Exception(f\"Unknown action: {action}: {action_input}\")\n",
        "            print(f\" -- running {action} {action_input}\")\n",
        "            observation = known_actions[action](action_input)\n",
        "            print(\"Observation:\", observation)\n",
        "            next_prompt = f\"Observation: {observation}\"\n",
        "        else:\n",
        "            return"
      ]
    },
    {
      "cell_type": "markdown",
      "metadata": {
        "id": "CKyGVRkoMPAo"
      },
      "source": [
        "### Running Queries with Multiple Turns\n",
        "\n",
        "We test the agent with more complex queries that require multiple actions."
      ]
    },
    {
      "cell_type": "code",
      "execution_count": null,
      "metadata": {
        "id": "sK6yH72cMPAo",
        "outputId": "ef21dcf8-9c74-47a9-f833-1df7fcaf66f7"
      },
      "outputs": [
        {
          "name": "stdout",
          "output_type": "stream",
          "text": [
            "Thought: To find the price of 2 bananas, I need to get the price of a single banana first.\n",
            "Action: get_fruit_price: banana\n",
            "PAUSE\n",
            " -- running get_fruit_price banana\n",
            "Observation: The price of a banana is $1.2\n",
            "Action: calculate_total_price: banana: 2\n",
            "PAUSE\n",
            " -- running calculate_total_price banana: 2\n",
            "Observation: The total price is $2.40\n",
            "Answer: The price of 2 bananas is $2.40.\n"
          ]
        }
      ],
      "source": [
        "query(\"What is the price of 2 bananas?\")"
      ]
    },
    {
      "cell_type": "code",
      "execution_count": null,
      "metadata": {
        "id": "66LSWYkkMPAt",
        "outputId": "865396e6-9d44-44f4-8c4d-b01814b5ff80"
      },
      "outputs": [
        {
          "name": "stdout",
          "output_type": "stream",
          "text": [
            "Thought: To find the total cost, I need to get the price of each fruit and then calculate the total price based on the quantities provided.\n",
            "Action: get_fruit_price: apple\n",
            "PAUSE\n",
            " -- running get_fruit_price apple\n",
            "Observation: The price of a apple is $1.5\n",
            "Action: get_fruit_price: banana\n",
            "PAUSE\n",
            " -- running get_fruit_price banana\n",
            "Observation: The price of a banana is $1.2\n",
            "Action: get_fruit_price: orange\n",
            "PAUSE\n",
            " -- running get_fruit_price orange\n",
            "Observation: The price of a orange is $1.3\n",
            "Action: calculate_total_price: apple: 10, banana: 10, orange: 2\n",
            "PAUSE\n",
            " -- running calculate_total_price apple: 10, banana: 10, orange: 2\n",
            "Observation: The total price is $29.60\n",
            "Answer: The total cost for 10 apples, 10 bananas, and 2 oranges is $29.60.\n"
          ]
        }
      ],
      "source": [
        "query(\"If i bought 10 apples, 10 bananas, and 2 oranges, how much would it cost?\")"
      ]
    },
    {
      "cell_type": "markdown",
      "metadata": {
        "id": "GRBAzDRxMPAt"
      },
      "source": [
        "### Conclusion\n",
        "\n",
        "Congratulations on completing this tutorial on building a ReAct agent from scratch using GPT-4o!\n",
        "\n",
        "Here are a few things you can try next:\n",
        "\n",
        "- Expand the set of available actions to enable the agent to perform more complex tasks.\n",
        "- Integrate the agent with external APIs to fetch real-time data, such as stock prices or weather information.\n"
      ]
    }
  ],
  "metadata": {
    "kernelspec": {
      "display_name": "Python 3 (ipykernel)",
      "language": "python",
      "name": "python3"
    },
    "language_info": {
      "codemirror_mode": {
        "name": "ipython",
        "version": 3
      },
      "file_extension": ".py",
      "mimetype": "text/x-python",
      "name": "python",
      "nbconvert_exporter": "python",
      "pygments_lexer": "ipython3",
      "version": "3.12.5"
    },
    "colab": {
      "provenance": []
    }
  },
  "nbformat": 4,
  "nbformat_minor": 0
}